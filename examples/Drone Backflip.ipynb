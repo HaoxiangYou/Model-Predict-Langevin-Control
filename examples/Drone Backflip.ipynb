{
 "cells": [
  {
   "cell_type": "code",
   "execution_count": 1,
   "metadata": {},
   "outputs": [],
   "source": [
    "from jax import config\n",
    "config.update(\"jax_enable_x64\", True)\n",
    "\n",
    "import jax.numpy as np \n",
    "import numpy as onp\n",
    "import jax\n",
    "from jax import jacfwd, grad, jit, vmap, hessian\n",
    "from jaxlie import SE2, SO2, manifold\n",
    "import meshcat\n",
    "from meshcat import transformations as tfm\n",
    "from meshcat import geometry as geom \n",
    "import time\n",
    "import matplotlib.pyplot as plt\n",
    "import tqdm\n",
    "from IPython.display import clear_output"
   ]
  },
  {
   "cell_type": "markdown",
   "metadata": {},
   "source": [
    "## Dynamics Model \n",
    "We will be using a 2D (planar) drone system with two force inputs at each robot (see below).\n",
    "\n",
    "![drone](quadrotor2d.png)\n",
    "\n",
    "\n",
    "The manipulator equation of the drone are given as \n",
    "\\begin{align*}\n",
    "    m \\ddot{p_x} &= - (u_1 + u_2) \\sin(\\theta) \\\\ \n",
    "    m \\ddot{p_y} &= (u_1 + u_2) \\cos(\\theta) - m g \\\\ \n",
    "    I \\ddot{\\theta} &= r (u_1 - u_2)\n",
    "\\end{align*}\n",
    "where $m$ is the mass, $I$ is the inertia, $g$ is gravity, $r$ is the distance from the center to the base of the propeller, and the state is given as $x=[p_x, p_y, \\theta, \\dot{p_x}, \\dot{p_y}, \\dot{\\theta}]$.\n",
    "The degrees of freedom at the $x,y$ position, drone rotation relative to the world $\\theta$, and there are two force inputs $u_1, u_2$ for each rotor. \n",
    "\n",
    "As we are using a direct transcription approach, we need to write the dynamics as a discrete-time system, i.e., $x[k+1] = x[k] + dt * f(x[k], u[k])$\n"
   ]
  },
  {
   "cell_type": "code",
   "execution_count": 2,
   "metadata": {},
   "outputs": [],
   "source": [
    "def euler_step(x, f, dt, *args):\n",
    "    return x + f(x, *args) * dt\n",
    "\n",
    "_dt = 0.1\n",
    "_g  = 9.81 \n",
    "_c1 = 0.02 \n",
    "_c2 = 0.02\n",
    "_r = 0.1\n",
    "_I = 0.1\n",
    "_m = 0.1\n",
    "\n",
    "def f(x, u):\n",
    "    \"\"\"\n",
    "        Input: state x=[px,py, theta, pxdt, pydt, thetadt], control u = [u1, u2]\n",
    "        output: \\dot{x} \n",
    "    \"\"\"\n",
    "    px, py, th, pxt, pyt, tht = x\n",
    "    u1, u2 = u\n",
    "    F = u1+u2 \n",
    "    T = u1-u2\n",
    "    xtt = - F * np.sin(th) / _m \n",
    "    ytt = F * np.cos(th) / _m - _g\n",
    "    thtt =  _r * T/_I\n",
    "    return np.array([pxt, pyt, tht, xtt, ytt, thtt])\n",
    "\n",
    "def F(x, u):\n",
    "    \"\"\"\n",
    "        solves x[t+dt] = x[t] + dt * f(x[t], u[t])\n",
    "    \"\"\"\n",
    "    return euler_step(x, f, _dt, u)\n",
    "\n",
    "F_jitted = jit(F)"
   ]
  },
  {
   "cell_type": "markdown",
   "metadata": {},
   "source": [
    "## Trajectory rollout"
   ]
  },
  {
   "cell_type": "markdown",
   "metadata": {},
   "source": [
    "First we will reduce the problem to a shooting based objective with soft constraints. Let's construct a function that, given an initial state condition and a control sequence returns a state and control trajectory. We will also incorporate a soft control constraint using a differentiable saturation function `umax*(tanh(x)/2 +0.5)` into the forward shooting which returns a smooth approximation of a function clip between 0 and umax=2. We will use this saturated value in the objective function to compute the cost of control."
   ]
  },
  {
   "cell_type": "code",
   "execution_count": 3,
   "metadata": {},
   "outputs": [],
   "source": [
    "def u_sat(u):\n",
    "    return 2*(np.tanh(u)/2 + 0.5)\n",
    "\n",
    "def shoot_F(x0, U):\n",
    "    x = x0.copy()\n",
    "    X = [x.copy()]\n",
    "    U_sat = []\n",
    "    for u in U:\n",
    "        U_sat.append(u_sat(u))\n",
    "        X.append(F(X[-1], U_sat[-1]))\n",
    "    return np.array(X), np.array(U_sat)"
   ]
  },
  {
   "cell_type": "markdown",
   "metadata": {},
   "source": [
    "## Define Objective\n",
    "\n",
    "Here, we will need to redefine the cost function and terminal cost defined previously as MPC plans on smaller time-scales with a receding horizon (terminal time is then always moving away from the controller). As a result, we need to inform the controller on what the task is throughout planning (especially since MPC methods are simpler and need a lot more help to inform of solutions). We will define a quadratic cost with a terminal condition \n",
    "$$\n",
    "    \\sqrt{J} = \\frac{1}{N} \\sum (x_k - x_d)^\\top Q (x_k - x_d) + u_k^\\top R u_k + (x_N - x_d)^\\top Q_f (x_N - x_d)\n",
    "$$\n",
    "where $Q, Q_f, R$ are define below, and $N$ is the discrete time horizon (used to normalize the objective value).\n",
    "\n",
    "In addition, this function will take in a control sequence an initial state and implicitly simulate the state trajectory using the shooting function and return a scalar loss value for the state/control trajectories."
   ]
  },
  {
   "cell_type": "code",
   "execution_count": 4,
   "metadata": {},
   "outputs": [],
   "source": [
    "_xd = np.array([0.,0.,2*np.pi,0.,0.,0.])\n",
    "_Q = np.diag(np.array([2., 2., 80., .01, .01, .001]))\n",
    "_Qf = np.diag(np.array([4., 4., 80., .01, .01, .01]))\n",
    "_R = np.diag(np.array([0.0001, 0.0001]))\n",
    "\n",
    "def soft_objective(x0, U):\n",
    "    X, U_sat = shoot_F(x0, U)\n",
    "    J = 0.0\n",
    "    for x,u in zip(X[:-1], U_sat):\n",
    "        J += (x - _xd).T @ _Q @ (x - _xd) + u.T @ _R @ u\n",
    "    return ((J + (X[-1] - _xd).T @ _Qf @ (X[-1] - _xd)) / len(X))**2"
   ]
  },
  {
   "cell_type": "code",
   "execution_count": 5,
   "metadata": {},
   "outputs": [],
   "source": [
    "grad_soft_obj = grad(soft_objective, argnums=1)\n",
    "jitted_grad_soft_obj = jit(grad_soft_obj)\n",
    "jitted_vmap_soft_obj = jit(vmap(soft_objective, in_axes=[None, 0]))"
   ]
  },
  {
   "cell_type": "markdown",
   "metadata": {},
   "source": [
    "## Define Langevin dynamics update\n",
    "\n",
    "The Unadjusted Langevin Algorithm (ULA) is given by\n",
    "\n",
    "$ U_{k+1} = U_k - \\eta \\nabla J(U) + \\sqrt{2 \\eta} z_k$,\n",
    "\n",
    "where $\\eta$ the step size and $z_k \\sim \\mathcal{N}(0, I)$ is standarad gaussian."
   ]
  },
  {
   "cell_type": "code",
   "execution_count": 6,
   "metadata": {},
   "outputs": [],
   "source": [
    "step_size = 1e-5\n",
    "tH = 2\n",
    "N = int(tH/_dt)\n",
    "\n",
    "# determine how U will concentrated on the argmin J\n",
    "J_scale = 100\n",
    "\n",
    "def ULA(x0, U, step_size, random_key):\n",
    "    z = jax.random.multivariate_normal(random_key, mean=np.zeros((N-1) * 2), cov=np.eye((N-1) * 2)).reshape(N-1, 2)\n",
    "    return U - step_size * grad_soft_obj(x0, U) * J_scale + (2 * step_size)**0.5 * z\n",
    "\n",
    "jitted_vmap_ULA = jit(vmap(ULA, in_axes=(None, 0, None, 0)))"
   ]
  },
  {
   "cell_type": "code",
   "execution_count": 7,
   "metadata": {},
   "outputs": [],
   "source": [
    "def mpld(x0, Us, random_key, step_size):\n",
    "    Us = Us.at[:, :-1].set(Us[:, 1:])\n",
    "    random_keys = jax.random.split(random_key, Us.shape[0])\n",
    "    for i in range(100):\n",
    "        Us = jitted_vmap_ULA(x0, Us, step_size, random_keys)\n",
    "        # decrease the step size to obtain unbias distribution\n",
    "        step_size = step_size * 0.95\n",
    "    return Us"
   ]
  },
  {
   "cell_type": "code",
   "execution_count": 8,
   "metadata": {},
   "outputs": [
    {
     "name": "stderr",
     "output_type": "stream",
     "text": [
      "100%|██████████| 150/150 [00:26<00:00,  5.62it/s]\n"
     ]
    }
   ],
   "source": [
    "x0 = np.zeros(6)\n",
    "\n",
    "N_samples = 1000\n",
    "random_key = jax.random.PRNGKey(0)\n",
    "random_key, key_to_use = jax.random.split(random_key)\n",
    "Us = jax.random.multivariate_normal(random_key, mean=np.zeros((N-1) * 2), cov=np.eye((N-1) * 2), shape=(N_samples,))\n",
    "Us = Us.reshape(N_samples, N-1, 2)\n",
    "\n",
    "jitted_vmap_ULA(x0, Us, step_size, jax.random.split(random_key, N_samples))\n",
    "\n",
    "qs = [x0[:3]]\n",
    "costs_list = []\n",
    "\n",
    "for t in tqdm.tqdm(range(100)):\n",
    "    random_key, key_to_use = jax.random.split(random_key)\n",
    "    Us = mpld(x0, Us, random_key, step_size)\n",
    "    # get the best U\n",
    "    costs = jitted_vmap_soft_obj(x0, Us)\n",
    "    costs_list.append(costs)\n",
    "    x0 = F_jitted(x0, u_sat(Us[np.argmin(costs), 0]))\n",
    "    q, qdot = np.split(x0, 2)\n",
    "    qs.append(q)"
   ]
  },
  {
   "cell_type": "code",
   "execution_count": 9,
   "metadata": {},
   "outputs": [
    {
     "name": "stdout",
     "output_type": "stream",
     "text": [
      "You can open the visualizer by visiting the following URL:\n",
      "http://127.0.0.1:7000/static/\n"
     ]
    },
    {
     "data": {
      "text/html": [
       "\n",
       "            <div style=\"height: 400px; width: 100%; overflow-x: auto; overflow-y: hidden; resize: both\">\n",
       "            <iframe src=\"http://127.0.0.1:7000/static/\" style=\"width: 100%; height: 100%; border: none\"></iframe>\n",
       "            </div>\n",
       "            "
      ],
      "text/plain": [
       "<IPython.core.display.HTML object>"
      ]
     },
     "execution_count": 9,
     "metadata": {},
     "output_type": "execute_result"
    }
   ],
   "source": [
    "viz = meshcat.Visualizer()\n",
    "\n",
    "drone  = viz[\"drone\"]\n",
    "drone_body = drone[\"body\"]\n",
    "drone_body.set_object(\n",
    "    geom.Box([0.1,0.5,0.02])\n",
    ")\n",
    "drone_propFL = drone[\"propFL\"]\n",
    "drone_propFL.set_transform(tfm.translation_matrix([0.,-0.25,0.05])@tfm.rotation_matrix(np.pi/2,[1,0,0]))\n",
    "drone_propFL.set_object(\n",
    "    geom.Cylinder(height=0.01, radius=0.2)\n",
    ")\n",
    "\n",
    "drone_propFR = drone[\"propFR\"]\n",
    "drone_propFR.set_transform(tfm.translation_matrix([0.,0.25,0.05])@tfm.rotation_matrix(np.pi/2,[1,0,0]))\n",
    "drone_propFR.set_object(\n",
    "    geom.Cylinder(height=0.01, radius=0.2)\n",
    ")\n",
    "viz.jupyter_cell()"
   ]
  },
  {
   "cell_type": "code",
   "execution_count": 10,
   "metadata": {},
   "outputs": [],
   "source": [
    "for q in qs:\n",
    "    drone.set_transform(\n",
    "        tfm.translation_matrix([0,q[0],q[1]]) @ tfm.rotation_matrix(q[2],[1,0,0])\n",
    "    )\n",
    "    time.sleep(_dt)"
   ]
  }
 ],
 "metadata": {
  "kernelspec": {
   "display_name": "ESE650",
   "language": "python",
   "name": "python3"
  },
  "language_info": {
   "codemirror_mode": {
    "name": "ipython",
    "version": 3
   },
   "file_extension": ".py",
   "mimetype": "text/x-python",
   "name": "python",
   "nbconvert_exporter": "python",
   "pygments_lexer": "ipython3",
   "version": "3.10.12"
  }
 },
 "nbformat": 4,
 "nbformat_minor": 2
}
